{
 "cells": [
  {
   "cell_type": "markdown",
   "id": "d49626ab-ed0e-4835-b1fa-d23f49b6b890",
   "metadata": {},
   "source": [
    "##### Global import\n",
    "\n",
    "Make sure that the following packages in `requirements.txt` are installed."
   ]
  },
  {
   "cell_type": "code",
   "execution_count": 2,
   "id": "77be8835-3e53-485b-ad4b-eb1a396a841c",
   "metadata": {},
   "outputs": [],
   "source": [
    "import pandas as pd\n",
    "import matplotlib.pyplot as plt\n",
    "import os\n",
    "import numpy as np\n",
    "import matplotlib.ticker as mticker\n"
   ]
  },
  {
   "cell_type": "markdown",
   "id": "3c0641f5-5d35-492d-8a71-b9530d2b84f3",
   "metadata": {},
   "source": [
    "## 1. Corpus Analysis\n"
   ]
  },
  {
   "cell_type": "markdown",
   "id": "2f1cb740-65cc-4b7e-9efe-756005c875ce",
   "metadata": {},
   "source": [
    "##### Copia import"
   ]
  },
  {
   "cell_type": "code",
   "execution_count": 3,
   "id": "c183fd94-6fae-442b-9479-70869ac5308a",
   "metadata": {},
   "outputs": [],
   "source": [
    "from copia import density, accumulation_curve, species_accumulation\n",
    "from copia.utils import evenness, survival_ratio\n",
    "from copia.hill import hill_numbers\n",
    "from copia.plot import evenness_plot\n"
   ]
  },
  {
   "cell_type": "markdown",
   "id": "68d41f33-c6fa-4abc-89c9-0a35690b764c",
   "metadata": {},
   "source": [
    "##### Load and prepare Data abundance"
   ]
  },
  {
   "cell_type": "markdown",
   "id": "4c3788af",
   "metadata": {},
   "source": [
    "\n",
    "This code loads the Excel files `prose.xlsx` and `poetry.xlsx` from the `data/` folder, adds a `source` column to label each entry as prose or poetry, and merges them into a single DataFrame `df_combined`. It then separately counts the number of witnesses per work for prose and for poetry, storing these abundance values in `prose_witness_counts` and `poetry_witness_counts`, respectively."
   ]
  },
  {
   "cell_type": "code",
   "execution_count": 9,
   "id": "7b362e1a-6e0a-401b-9860-05a63a4aaa8f",
   "metadata": {},
   "outputs": [],
   "source": [
    "# Load data files\n",
    "folder_path = \"data/\"\n",
    "\n",
    "df_prose = pd.read_csv(folder_path+\"prose.csv\", sep=\";\", engine=\"python\")\n",
    "prose_witness_counts = df_prose.groupby(\"text_ID\")[\"witness_ID\"].count()\n",
    "\n",
    "df_poetry = pd.read_csv(folder_path+\"poetry.csv\", sep=\";\", engine=\"python\")\n",
    "poetry_witness_counts = df_poetry.groupby(\"text_ID\")[\"witness_ID\"].count()"
   ]
  },
  {
   "cell_type": "markdown",
   "id": "b636b705-47e2-4dc9-aa1f-5b50bef80688",
   "metadata": {},
   "source": [
    "#### 1.1 Data distribution"
   ]
  },
  {
   "cell_type": "markdown",
   "id": "a4661034",
   "metadata": {},
   "source": [
    "This code creates a histogram comparing the distribution of witness counts for prose and poetry. It uses a logarithmic scale on the x-axis to accommodate the wide range of values. Separate histograms are computed for prose and poetry using `np.histogram`, and their bars are plotted side by side for visual comparison. The histogram bars for prose works are red, while those for verse works are blue. Finally, the figure is saved as `figs/witness_dist.png` and displayed.\n"
   ]
  },
  {
   "cell_type": "code",
   "execution_count": null,
   "id": "cedd58de-1055-468d-bbc8-ce709ee6bc03",
   "metadata": {},
   "outputs": [],
   "source": [
    "# Create histogram with side-by-side bars\n",
    "plt.style.use('ggplot')\n",
    "fig, ax = plt.subplots(figsize=(10, 7), dpi=300)\n",
    "ax.set_facecolor('white')\n",
    "ax.grid(True, alpha=0.4, linestyle='-', linewidth=0.5, color='gray')\n",
    "ax.set_axisbelow(True)\n",
    "\n",
    "# Define bins on logarithmic scale\n",
    "max_witnesses = max(prose_witness_counts.max(), poetry_witness_counts.max())\n",
    "bins = np.logspace(np.log10(1), np.log10(max_witnesses + 1), 15)\n",
    "\n",
    "# Calculate histograms manually\n",
    "prose_hist, _ = np.histogram(prose_witness_counts, bins=bins)\n",
    "poetry_hist, _ = np.histogram(poetry_witness_counts, bins=bins)\n",
    "\n",
    "# Calculate bin centers and widths in log scale\n",
    "bin_centers = np.sqrt(bins[:-1] * bins[1:])\n",
    "bin_widths = bins[1:] - bins[:-1]\n",
    "\n",
    "# Bar width and positions\n",
    "bar_width = bin_widths * 0.5\n",
    "prose_positions = bin_centers - bar_width / 2\n",
    "poetry_positions = bin_centers + bar_width / 2\n",
    "\n",
    "# Plot side-by-side bars\n",
    "ax.bar(prose_positions, prose_hist, width=bar_width, \n",
    "       label='Prose', alpha=0.8, edgecolor='black', linewidth=0.5)\n",
    "ax.bar(poetry_positions, poetry_hist, width=bar_width, \n",
    "       label='Poetry', alpha=0.8, edgecolor='black', linewidth=0.5)\n",
    "\n",
    "# Apply logarithmic scale to X axis\n",
    "ax.set_xscale('log')\n",
    "\n",
    "# Format X axis ticks\n",
    "ax.xaxis.set_major_formatter(mticker.ScalarFormatter())\n",
    "ax.xaxis.set_minor_formatter(mticker.NullFormatter())\n",
    "ax.tick_params(axis='x', which='minor', bottom=False)\n",
    "ax.tick_params(axis='both', which='major', labelsize=20)\n",
    "\n",
    "# Labels and legend\n",
    "ax.set_xlabel('Number of Witnesses per Work (Log Scale)', fontsize=24)\n",
    "ax.set_ylabel('Total Number of Works', fontsize=24)\n",
    "ax.legend(loc='upper right', fontsize=25)\n",
    "\n",
    "plt.tight_layout()\n",
    "plt.savefig(\"figs/witness_dist.png\")\n",
    "plt.show()"
   ]
  },
  {
   "cell_type": "markdown",
   "id": "592fb88c-d3c6-4de6-8b7e-4f9dc126b8b1",
   "metadata": {},
   "source": [
    "#### 1.2 Evenness Plot"
   ]
  },
  {
   "cell_type": "markdown",
   "id": "fae6554e",
   "metadata": {},
   "source": [
    "This script assesses the evenness of textual transmission for prose and poetry. It should be recalled that evenness measures how equitably transmission is distributed across texts, with values near 1 indicating a balanced distribution and lower values reflecting concentration around a few dominant works. Hill numbers, computed with `hill_numbers`, provide a diversity index that accounts for both the number of distinct texts and their relative abundances. These are then converted into evenness values with the `evenness` function and stored in a dictionary for plotting.  The resulting figure is saved as a PNG file.\n"
   ]
  },
  {
   "cell_type": "code",
   "execution_count": null,
   "id": "2afb547e-4386-44f6-80b5-322d2c777c73",
   "metadata": {},
   "outputs": [],
   "source": [
    "# Calculate evenness\n",
    "emp_prose, est_prose = hill_numbers(prose_witness_counts, n_iter=1000, n_jobs=4)\n",
    "evenness_prose = evenness(est_prose)\n",
    "\n",
    "emp_poetry, est_poetry = hill_numbers(poetry_witness_counts, n_iter=1000, n_jobs=4)\n",
    "evenness_poetry = evenness(est_poetry)\n",
    "\n",
    "\n",
    "evenness_result_dict = {'Prose': evenness_prose, 'Poetry': evenness_poetry}\n",
    "\n",
    "# Create enhanced plot\n",
    "fig, ax = plt.subplots(figsize=(10, 7), dpi=300)\n",
    "evenness_plot(evenness_result_dict, figsize=(10, 7), ax=ax)\n",
    "\n",
    "ax.set_facecolor('white')\n",
    "ax.grid(True, alpha=0.4, linestyle='-', linewidth=0.5, color='gray')\n",
    "ax.set_axisbelow(True)\n",
    "ax.set_xlabel('Diversity order (q)', fontsize=24)\n",
    "ax.set_ylabel('Evenness', fontsize=24)\n",
    "ax.set_title(' ', fontsize=26, fontweight='bold')\n",
    "ax.tick_params(axis='both', which='major', labelsize=20)\n",
    "legend = ax.legend(fontsize=25)\n",
    "\n",
    "for line in ax.get_lines():\n",
    "    line.set_linewidth(3.5)\n",
    "\n",
    "# Add grid for better readability\n",
    "ax.grid(True, alpha=0.3, linestyle='--', linewidth=0.8)\n",
    "\n",
    "\n",
    "plt.tight_layout()\n",
    "plt.savefig(\"figs/evennesspvsp.png\")\n",
    "plt.show()"
   ]
  },
  {
   "cell_type": "markdown",
   "id": "975dfddd-6f78-447f-9169-24b5d210a8d1",
   "metadata": {},
   "source": [
    "## 2. Results on prose texts"
   ]
  },
  {
   "cell_type": "markdown",
   "id": "893cff42-a86e-4ab5-bb8f-a4498f6b75ce",
   "metadata": {},
   "source": [
    "#### 2.1 Unseen Species approach"
   ]
  },
  {
   "cell_type": "markdown",
   "id": "70836a0d-3801-4a54-a5b5-04ec323247f4",
   "metadata": {},
   "source": [
    "This code estimates the survival rate of prose texts in our corpus of Church Fathers in the Iberian Peninsula using the Chao1 estimator. First, the `survival_ratio` function with `method='ichao1'` computes a bootstrap distribution of survival ratios, providing an upper-bound estimate of the original number of texts. Finally, the code creates a density plot of these survival ratios and saves it as \"figs/ichaoboot_prose.png\".\n",
    "\n",
    "NB: This code is essentially identical to the one used for the all corpus (prose or poetry)."
   ]
  },
  {
   "cell_type": "code",
   "execution_count": null,
   "id": "69165912-dcb6-4d67-9ce8-8251bdeb3a1e",
   "metadata": {},
   "outputs": [],
   "source": [
    "# Calculate survival ratios using Chao1 estimator\n",
    "wsurvival_all = survival_ratio(prose_witness_counts, method='ichao1', n_iter=5000, n_jobs=1)\n",
    "\n",
    "# Create enhanced density plot\n",
    "fig, ax = plt.subplots(figsize=(10, 7), dpi=300)\n",
    "density(wsurvival_all, ax = ax, figsize=(10, 7), xlim=(0.1, 1.1))\n",
    "\n",
    "ax.set_facecolor('white')\n",
    "ax.grid(True, alpha=0.4, linestyle='-', linewidth=0.5, color='gray')\n",
    "ax.set_axisbelow(True)\n",
    "\n",
    "ax.set_yticklabels([])\n",
    "ax.tick_params(axis='y', which='both', left=False)\n",
    "ax.set_ylabel(None)\n",
    "ax.spines['left'].set_visible(False)\n",
    "ax.set_xlabel('Survival Ratio', fontsize=24)\n",
    "ax.tick_params(axis='x', which='major', labelsize=20)\n",
    "ax.spines['top'].set_visible(False)\n",
    "ax.spines['right'].set_visible(False)\n",
    "ax.spines['bottom'].set_linewidth(1.5)\n",
    "ax.set_ylabel('Density', fontsize=24, fontweight='bold')\n",
    "\n",
    "\n",
    "for line in ax.get_lines():\n",
    "    line.set_linewidth(2.5)\n",
    "ax.grid(axis='x', alpha=0.3, linestyle='--', linewidth=0.8)\n",
    "\n",
    "for text in ax.texts:\n",
    "    text.set_fontsize(25)\n",
    "    text.set_bbox(dict(boxstyle='round,pad=0.5', facecolor='white', \n",
    "                       edgecolor='gray', alpha=0.8, linewidth=1.5))\n",
    "\n",
    "\n",
    "plt.tight_layout()\n",
    "plt.savefig(\"figs/ichaoboot_prose.png\")\n",
    "plt.show()"
   ]
  },
  {
   "cell_type": "markdown",
   "id": "3726d93f-a617-4c45-8ee6-bfceca89ae8d",
   "metadata": {},
   "source": [
    "##### Witnesses survival rates\n",
    "\n",
    "##### Witnesses survival rates\n",
    "\n",
    "This code estimates the survival rate of witnesses for prose texts in our corpus. First, the `survival_ratio` function with `method='minsample'` computes a bootstrap distribution of survival ratios based on the number of witnesses, providing an estimate of how many witnesses have survived relative to the original set. Finally, the code creates a density plot of these survival ratios and saves it as \"figs/minsampleboot.png\".\n",
    "Line in red corresponds to the estimate, and dashed lines represent the confidence interval at 95%.\n",
    "\n",
    "NB: This code is essentially identical to the one used for the all corpus (prose or poetry)."
   ]
  },
  {
   "cell_type": "code",
   "execution_count": null,
   "id": "35611773-69b4-41ea-9a45-72f6a803ca08",
   "metadata": {},
   "outputs": [],
   "source": [
    "dsurvival_all = survival_ratio(prose_witness_counts, method='minsample', n_iter=1000, n_jobs=1)\n",
    "\n",
    "# Create enhanced density plot\n",
    "fig, ax = plt.subplots(figsize=(10, 7), dpi=300)\n",
    "density(dsurvival_all, ax = ax, figsize=(10, 7), xlim=(0, 0.4))\n",
    "ax.set_facecolor('white')\n",
    "ax.grid(True, alpha=0.4, linestyle='-', linewidth=0.5, color='gray')\n",
    "ax.set_axisbelow(True)\n",
    "\n",
    "ax.set_yticklabels([])\n",
    "ax.tick_params(axis='y', which='both', left=False)\n",
    "ax.set_ylabel(None)\n",
    "ax.spines['left'].set_visible(False)\n",
    "ax.set_xlabel('Survival Ratio', fontsize=24)\n",
    "ax.tick_params(axis='x', which='major', labelsize=20)\n",
    "ax.spines['top'].set_visible(False)\n",
    "ax.spines['right'].set_visible(False)\n",
    "ax.spines['bottom'].set_linewidth(1.5)\n",
    "ax.set_ylabel('Density', fontsize=24, fontweight='bold')\n",
    "\n",
    "\n",
    "for line in ax.get_lines():\n",
    "    line.set_linewidth(2.5)\n",
    "ax.grid(axis='x', alpha=0.3, linestyle='--', linewidth=0.8)\n",
    "\n",
    "for text in ax.texts:\n",
    "    text.set_fontsize(25)\n",
    "    text.set_bbox(dict(boxstyle='round,pad=0.5', facecolor='white', \n",
    "                       edgecolor='gray', alpha=0.8, linewidth=1.5))\n",
    "\n",
    "\n",
    "plt.tight_layout()\n",
    "plt.savefig(\"figs/minsampleboot_prose.png\")\n",
    "plt.show()"
   ]
  },
  {
   "cell_type": "markdown",
   "id": "e6eb54d9-00a6-4b9b-87d3-309288262abd",
   "metadata": {},
   "source": [
    "\n",
    "\n",
    "##### Species accumulation curve\n",
    "\n",
    "This code generates a species accumulation curve for our prose texts. In ecological terms, an accumulation curve shows the number of species discovered as a function of sampling effort; here, it represents the number of witnesses discovered as a function of the number of texts sampled. First, the `species_accumulation` function calculates the accumulation up to a realistic maximum number of steps (`max_steps = 20000`). Then, the `accumulation_curve` function plots this curve, showing how the number of witnesses increases with additional texts. The plot is customized for readability and clarity and is saved as \"figs/accumulation_curve.png\". The violet point represents empirical data, the dashed line is the extrapolation curve, and the green shaded area illustrates the uncertainty range.\n",
    "\n",
    "NB: This code is essentially identical to the one used for the all corpus (prose or poetry)."
   ]
  },
  {
   "cell_type": "code",
   "execution_count": null,
   "id": "afe27308-b135-4091-896b-97054599bbba",
   "metadata": {},
   "outputs": [],
   "source": [
    "# Set realistic maximum steps for the corpus\n",
    "max_steps = 20000\n",
    "\n",
    "# Calculate species accumulation\n",
    "accumulation = species_accumulation(prose_witness_counts, max_steps=max_steps)\n",
    "\n",
    "fig, ax = plt.subplots(figsize=(10, 7), dpi=300)\n",
    "ax.set_facecolor('white')\n",
    "ax.grid(True, alpha=0.4, linestyle='-', linewidth=0.5, color='gray')\n",
    "ax.set_axisbelow(True)\n",
    "\n",
    "# Plot accumulation curve\n",
    "accumulation_curve(prose_witness_counts, accumulation, c0='C2', c1='C2',\n",
    "                   xlabel='Texts', ylabel='Witnesses',\n",
    "                   ax=ax, xlim=(0, max_steps), label='Accumulation')\n",
    "\n",
    "# Enhance inset plot appearance\n",
    "ax.xaxis.get_offset_text().set_fontsize(24)\n",
    "ax.tick_params(axis='both', labelsize=20)\n",
    "ax.tick_params(axis='y', which='minor', left=False)\n",
    "ax.ticklabel_format(style='sci', axis='x', scilimits=(0, 0), useMathText=True)\n",
    "ax.set_xlabel('Texts', fontsize=24, fontweight='bold')\n",
    "ax.set_ylabel('Witnesses', fontsize=24, fontweight='bold')\n",
    "\n",
    "# Increase line width for better visibility\n",
    "for line in ax.get_lines():\n",
    "    line.set_linewidth(3)\n",
    "\n",
    "# Add grid for better readability\n",
    "ax.grid(True, alpha=0.3, linestyle='--', linewidth=0.8)\n",
    "plt.savefig(\"figs/accumulation_curve_prose.png\")\n",
    "plt.show()"
   ]
  },
  {
   "cell_type": "markdown",
   "id": "073a7a56-d7ff-43fc-8e26-0d06319478cc",
   "metadata": {},
   "source": [
    "#### 2.1 Birth Death approach\n",
    "\n",
    "This section implements the birth-death process simulation for generating trees under the three phase scenario (Innovation, Reproduction, Inactivity)."
   ]
  },
  {
   "cell_type": "markdown",
   "id": "03e08fa8-6552-4dac-a21b-e62d38776247",
   "metadata": {},
   "source": [
    "We first load the configuration file that contains all parameters for the church fathers pretrained model simulation :"
   ]
  },
  {
   "cell_type": "code",
   "execution_count": null,
   "id": "43dd66c7-f14b-46c8-ada6-4fbe48d34656",
   "metadata": {},
   "outputs": [],
   "source": [
    "from src.cli.inference import inference\n",
    "from src.cli.config import Config\n",
    "from pathlib import Path\n",
    "\n",
    "\n",
    "config_cf = Config(\"config_church_fathers_pretrained.yml\")"
   ]
  },
  {
   "cell_type": "markdown",
   "id": "058ed31e-ec80-4acc-84e2-7acf0fdd87f5",
   "metadata": {},
   "source": [
    "Execute the birth-death simulation with the following parameters:\n",
    "- **Input data**: Church fathers prose dataset (`data/prose.csv`)\n",
    "- **Model configuration**: Using pretrained church fathers parameters\n",
    "- **Output directory**: Results will be saved in `results_BD/`\n",
    "- **Separator**: Using semicolon (`;`) as CSV separator\n",
    "- **Save model**: Disabled for this run\n",
    "\n",
    "The simulation will generate the distribution of posterior parameters $(\\Lambda, \\lambda, \\mu)$ from the statistics computed on the dataset, and save all the results in the output directory.\n"
   ]
  },
  {
   "cell_type": "code",
   "execution_count": null,
   "id": "2de2dd65-45bb-47de-a6f9-cc348e39911f",
   "metadata": {},
   "outputs": [],
   "source": [
    "idata = inference(\n",
    "                  csv_file = \"data/prose.csv\",\n",
    "                  generator = config_cf.generator,\n",
    "                  stats = config_cf.stats,\n",
    "                  prior = config_cf.prior,\n",
    "                  backend = config_cf.backend,\n",
    "                  dir = Path(\"results_BD/\"),\n",
    "                  csv_separator = \";\",\n",
    "                  save_model = False,\n",
    "                 )"
   ]
  },
  {
   "cell_type": "markdown",
   "id": "b498f004-5314-442c-abe3-7523a23e53ac",
   "metadata": {},
   "source": [
    "#### CLI equivalent\n",
    "\n",
    "Here is the equivalent command that can be run directly from the terminal/command line:\n",
    "```bash\n",
    " simmatree -c config_church_fathers_pretrained.yml infer -i data/prose.csv -o results_BD\n",
    "```"
   ]
  },
  {
   "cell_type": "code",
   "execution_count": null,
   "id": "828aec63-5070-4b27-9b62-8c49e4f23f20",
   "metadata": {},
   "outputs": [],
   "source": []
  }
 ],
 "metadata": {
  "kernelspec": {
   "display_name": "test_env",
   "language": "python",
   "name": "python3"
  },
  "language_info": {
   "codemirror_mode": {
    "name": "ipython",
    "version": 3
   },
   "file_extension": ".py",
   "mimetype": "text/x-python",
   "name": "python",
   "nbconvert_exporter": "python",
   "pygments_lexer": "ipython3",
   "version": "3.12.9"
  }
 },
 "nbformat": 4,
 "nbformat_minor": 5
}
