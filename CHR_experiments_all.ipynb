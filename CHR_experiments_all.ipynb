{
 "cells": [
  {
   "cell_type": "code",
   "execution_count": null,
   "id": "98bdbe0a-1c2a-4740-be48-c34feb40ef22",
   "metadata": {},
   "outputs": [],
   "source": [
    "# !pip install git+https://github.com/LostMa-ERC/simMAtree.git\n",
    "# !pip install openpyxl\n",
    "# !pip install copia"
   ]
  },
  {
   "cell_type": "code",
   "execution_count": null,
   "id": "77be8835-3e53-485b-ad4b-eb1a396a841c",
   "metadata": {},
   "outputs": [],
   "source": [
    "import pandas as pd\n",
    "import matplotlib.pyplot as plt\n",
    "import os\n",
    "import numpy as np\n",
    "import matplotlib.ticker as mticker\n"
   ]
  },
  {
   "cell_type": "markdown",
   "id": "3c0641f5-5d35-492d-8a71-b9530d2b84f3",
   "metadata": {},
   "source": [
    "## 1. Corpus Analysis\n"
   ]
  },
  {
   "cell_type": "markdown",
   "id": "2f1cb740-65cc-4b7e-9efe-756005c875ce",
   "metadata": {},
   "source": [
    "##### Copia import"
   ]
  },
  {
   "cell_type": "code",
   "execution_count": null,
   "id": "c183fd94-6fae-442b-9479-70869ac5308a",
   "metadata": {},
   "outputs": [],
   "source": [
    "from copia import density, accumulation_curve, species_accumulation\n",
    "from copia.utils import evenness, survival_ratio\n",
    "from copia.hill import hill_numbers\n",
    "from copia.plot import evenness_plot\n"
   ]
  },
  {
   "cell_type": "markdown",
   "id": "68d41f33-c6fa-4abc-89c9-0a35690b764c",
   "metadata": {},
   "source": [
    "##### Load and prepare Data abundance"
   ]
  },
  {
   "cell_type": "code",
   "execution_count": null,
   "id": "7b362e1a-6e0a-401b-9860-05a63a4aaa8f",
   "metadata": {},
   "outputs": [],
   "source": [
    "# Load data files\n",
    "files = [\"prose.xlsx\", \"poetry.xlsx\"]\n",
    "folder_path = \"data/\"\n",
    "\n",
    "dfs_with_source = []\n",
    "\n",
    "for file in files:\n",
    "    file_path = os.path.join(folder_path, file)\n",
    "    if os.path.exists(file_path):\n",
    "        df = pd.read_excel(file_path)\n",
    "        df['source'] = 'Prose' if 'prose' in file.lower() else 'Poetry'\n",
    "        dfs_with_source.append(df)\n",
    "    else:\n",
    "        print(f\"Warning: File {file_path} not found.\")\n",
    "\n",
    "if not dfs_with_source:\n",
    "    raise FileNotFoundError(\"No data files found. Check path and file names.\")\n",
    "    \n",
    "df_combined = pd.concat(dfs_with_source, ignore_index=True)\n",
    "\n",
    "# Count witnesses per work for each source\n",
    "counts_all = df_combined['workTitle'].value_counts()\n",
    "all_witness_counts = counts_all.values"
   ]
  },
  {
   "cell_type": "markdown",
   "id": "975dfddd-6f78-447f-9169-24b5d210a8d1",
   "metadata": {},
   "source": [
    "## 2. Results on prose and peotry texts combined"
   ]
  },
  {
   "cell_type": "markdown",
   "id": "893cff42-a86e-4ab5-bb8f-a4498f6b75ce",
   "metadata": {},
   "source": [
    "#### 2.1 Unseen Species approach"
   ]
  },
  {
   "cell_type": "markdown",
   "id": "70836a0d-3801-4a54-a5b5-04ec323247f4",
   "metadata": {},
   "source": [
    "Bootstrap distribution of text survival rates upper bound for iChao1 estimator :"
   ]
  },
  {
   "cell_type": "code",
   "execution_count": null,
   "id": "69165912-dcb6-4d67-9ce8-8251bdeb3a1e",
   "metadata": {},
   "outputs": [],
   "source": [
    "# Calculate survival ratios using Chao1 estimator\n",
    "wsurvival_all = survival_ratio(all_witness_counts, method='ichao1', n_iter=5000, n_jobs=1)\n",
    "\n",
    "# Create enhanced density plot\n",
    "fig, ax = plt.subplots(figsize=(10, 7), dpi=300)\n",
    "density(wsurvival_all, ax = ax, figsize=(10, 7), xlim=(0.1, 1.1))\n",
    "\n",
    "ax.set_facecolor('white')\n",
    "ax.grid(True, alpha=0.4, linestyle='-', linewidth=0.5, color='gray')\n",
    "ax.set_axisbelow(True)\n",
    "\n",
    "ax.set_yticklabels([])\n",
    "ax.tick_params(axis='y', which='both', left=False)\n",
    "ax.set_ylabel(None)\n",
    "ax.spines['left'].set_visible(False)\n",
    "ax.set_xlabel('Survival Ratio', fontsize=24)\n",
    "ax.tick_params(axis='x', which='major', labelsize=20)\n",
    "ax.spines['top'].set_visible(False)\n",
    "ax.spines['right'].set_visible(False)\n",
    "ax.spines['bottom'].set_linewidth(1.5)\n",
    "ax.set_ylabel('Density', fontsize=24, fontweight='bold')\n",
    "\n",
    "\n",
    "for line in ax.get_lines():\n",
    "    line.set_linewidth(2.5)\n",
    "ax.grid(axis='x', alpha=0.3, linestyle='--', linewidth=0.8)\n",
    "\n",
    "for text in ax.texts:\n",
    "    text.set_fontsize(25)\n",
    "    text.set_bbox(dict(boxstyle='round,pad=0.5', facecolor='white', \n",
    "                       edgecolor='gray', alpha=0.8, linewidth=1.5))\n",
    "\n",
    "\n",
    "plt.tight_layout()\n",
    "plt.savefig(\"figs/ichaoboot.png\")\n",
    "plt.show()"
   ]
  },
  {
   "cell_type": "markdown",
   "id": "3726d93f-a617-4c45-8ee6-bfceca89ae8d",
   "metadata": {},
   "source": [
    "##### Witnesses survival rates\n",
    "\n",
    "Estimation and variability using the bootstrap procedure. \n",
    "Line in red correspond to the estimate, and dashed line represent the confidence interval at 95%."
   ]
  },
  {
   "cell_type": "code",
   "execution_count": null,
   "id": "35611773-69b4-41ea-9a45-72f6a803ca08",
   "metadata": {},
   "outputs": [],
   "source": [
    "dsurvival_all = survival_ratio(all_witness_counts, method='minsample', n_iter=1000, n_jobs=1)\n",
    "\n",
    "# Create enhanced density plot\n",
    "fig, ax = plt.subplots(figsize=(10, 7), dpi=300)\n",
    "density(dsurvival_all, ax = ax, figsize=(10, 7), xlim=(0, 0.4))\n",
    "ax.set_facecolor('white')\n",
    "ax.grid(True, alpha=0.4, linestyle='-', linewidth=0.5, color='gray')\n",
    "ax.set_axisbelow(True)\n",
    "\n",
    "ax.set_yticklabels([])\n",
    "ax.tick_params(axis='y', which='both', left=False)\n",
    "ax.set_ylabel(None)\n",
    "ax.spines['left'].set_visible(False)\n",
    "ax.set_xlabel('Survival Ratio', fontsize=24)\n",
    "ax.tick_params(axis='x', which='major', labelsize=20)\n",
    "ax.spines['top'].set_visible(False)\n",
    "ax.spines['right'].set_visible(False)\n",
    "ax.spines['bottom'].set_linewidth(1.5)\n",
    "ax.set_ylabel('Density', fontsize=24, fontweight='bold')\n",
    "\n",
    "\n",
    "for line in ax.get_lines():\n",
    "    line.set_linewidth(2.5)\n",
    "ax.grid(axis='x', alpha=0.3, linestyle='--', linewidth=0.8)\n",
    "\n",
    "for text in ax.texts:\n",
    "    text.set_fontsize(25)\n",
    "    text.set_bbox(dict(boxstyle='round,pad=0.5', facecolor='white', \n",
    "                       edgecolor='gray', alpha=0.8, linewidth=1.5))\n",
    "\n",
    "\n",
    "plt.tight_layout()\n",
    "plt.savefig(\"figs/minsampleboot.png\")\n",
    "plt.show()"
   ]
  },
  {
   "cell_type": "markdown",
   "id": "e6eb54d9-00a6-4b9b-87d3-309288262abd",
   "metadata": {},
   "source": [
    "##### Species accumulation curve\n",
    "\n",
    "The violet point represents empirical data, the dashed line is the extrapolation curve, and the green shaded area illustrates the uncertainty range."
   ]
  },
  {
   "cell_type": "code",
   "execution_count": null,
   "id": "afe27308-b135-4091-896b-97054599bbba",
   "metadata": {},
   "outputs": [],
   "source": [
    "# Set realistic maximum steps for the corpus\n",
    "max_steps = 20000\n",
    "\n",
    "# Calculate species accumulation\n",
    "accumulation = species_accumulation(all_witness_counts, max_steps=max_steps)\n",
    "\n",
    "fig, ax = plt.subplots(figsize=(10, 7), dpi=300)\n",
    "ax.set_facecolor('white')\n",
    "ax.grid(True, alpha=0.4, linestyle='-', linewidth=0.5, color='gray')\n",
    "ax.set_axisbelow(True)\n",
    "\n",
    "# Plot accumulation curve\n",
    "accumulation_curve(all_witness_counts, accumulation, c0='C2', c1='C2',\n",
    "                   xlabel='Texts', ylabel='Witnesses',\n",
    "                   ax=ax, xlim=(0, max_steps), label='Accumulation')\n",
    "\n",
    "# Enhance inset plot appearance\n",
    "ax.xaxis.get_offset_text().set_fontsize(24)\n",
    "ax.tick_params(axis='both', labelsize=20)\n",
    "ax.tick_params(axis='y', which='minor', left=False)\n",
    "ax.ticklabel_format(style='sci', axis='x', scilimits=(0, 0), useMathText=True)\n",
    "ax.set_xlabel('Texts', fontsize=24, fontweight='bold')\n",
    "ax.set_ylabel('Witnesses', fontsize=24, fontweight='bold')\n",
    "\n",
    "# Increase line width for better visibility\n",
    "for line in ax.get_lines():\n",
    "    line.set_linewidth(3)\n",
    "\n",
    "# Add grid for better readability\n",
    "ax.grid(True, alpha=0.3, linestyle='--', linewidth=0.8)\n",
    "plt.savefig(\"figs/accumulation_curve.png\")\n",
    "plt.show()"
   ]
  },
  {
   "cell_type": "markdown",
   "id": "073a7a56-d7ff-43fc-8e26-0d06319478cc",
   "metadata": {},
   "source": [
    "#### 2.1 Birth Death approach"
   ]
  },
  {
   "cell_type": "code",
   "execution_count": null,
   "id": "17ce7a2e-cfdd-4c6c-867b-bfa80d66de5f",
   "metadata": {},
   "outputs": [],
   "source": [
    "# !simmatree -c config_church_fathers_pretrained.yml infer -i data/all.csv -o results_BD/all"
   ]
  },
  {
   "cell_type": "code",
   "execution_count": null,
   "id": "43dd66c7-f14b-46c8-ada6-4fbe48d34656",
   "metadata": {},
   "outputs": [],
   "source": [
    "from src.cli.inference import inference\n",
    "from src.cli.config import Config\n",
    "from pathlib import Path\n",
    "\n",
    "\n",
    "config_cf = Config(\"config_church_fathers_pretrained.yml\")\n",
    "\n",
    "idata = inference(\n",
    "                  csv_file = \"data/all.csv\",\n",
    "                  generator = config_cf.generator,\n",
    "                  stats = config_cf.stats,\n",
    "                  prior = config_cf.prior,\n",
    "                  backend = config_cf.backend,\n",
    "                  dir = Path(\"results_BD/all/\"),\n",
    "                  csv_separator = \";\",\n",
    "                  save_model = False,\n",
    "                 )"
   ]
  },
  {
   "cell_type": "code",
   "execution_count": null,
   "id": "2de2dd65-45bb-47de-a6f9-cc348e39911f",
   "metadata": {},
   "outputs": [],
   "source": []
  },
  {
   "cell_type": "code",
   "execution_count": null,
   "id": "33a1855f-9466-45af-a839-c98a423f9524",
   "metadata": {},
   "outputs": [],
   "source": []
  }
 ],
 "metadata": {
  "kernelspec": {
   "display_name": "Python 3 (ipykernel)",
   "language": "python",
   "name": "python3"
  },
  "language_info": {
   "codemirror_mode": {
    "name": "ipython",
    "version": 3
   },
   "file_extension": ".py",
   "mimetype": "text/x-python",
   "name": "python",
   "nbconvert_exporter": "python",
   "pygments_lexer": "ipython3",
   "version": "3.12.9"
  }
 },
 "nbformat": 4,
 "nbformat_minor": 5
}
